{
 "cells": [
  {
   "cell_type": "markdown",
   "id": "d3bfc191-8885-42ee-b0a0-bbab867c6f9f",
   "metadata": {
    "tags": []
   },
   "source": [
    "# Lab | Flow Control"
   ]
  },
  {
   "cell_type": "markdown",
   "id": "3851fcd1-cf98-4653-9c89-e003b7ec9400",
   "metadata": {},
   "source": [
    "## Exercise: Managing Customer Orders Optimized\n",
    "\n",
    "In the last lab, you were starting an online store that sells various products. To ensure smooth operations, you developed a program that manages customer orders and inventory.\n",
    "\n",
    "You did so without using flow control. Let's go a step further and improve this code.\n",
    "\n",
    "Follow the steps below to complete the exercise:\n",
    "\n",
    "1. Look at your code from the lab data structures, and improve repeated code with loops.\n",
    "\n",
    "2. Instead of asking the user to input the name of three products that a customer wants to order, do the following:\n",
    "    \n",
    "    a. Prompt the user to enter the name of a product that a customer wants to order.\n",
    "    \n",
    "    b. Add the product name to the \"customer_orders\" set.\n",
    "    \n",
    "    c. Ask the user if they want to add another product (yes/no).\n",
    "    \n",
    "    d. Continue the loop until the user does not want to add another product.\n",
    "\n",
    "3. Instead of updating the inventory by subtracting 1 from the quantity of each product, only do it for  the products that were ordered (those in \"customer_orders\")."
   ]
  },
  {
   "cell_type": "code",
   "execution_count": 38,
   "id": "04601422",
   "metadata": {},
   "outputs": [
    {
     "name": "stdout",
     "output_type": "stream",
     "text": [
      "['t-shirt', 'mug', 'hat', 'book', 'keychain']\n",
      "{'t-shirt': 50, 'mug': 50, 'hat': 50, 'book': 50, 'keychain': 50}\n",
      "set()\n"
     ]
    }
   ],
   "source": [
    "products = list([\"t-shirt\", \"mug\", \"hat\", \"book\", \"keychain\"])\n",
    "print(products)\n",
    "inventory = dict({'t-shirt': 50, 'mug': 50, 'hat': 50, 'book': 50, 'keychain': 50})\n",
    "print(inventory)\n",
    "customer_orders = set() \n",
    "print(customer_orders)"
   ]
  },
  {
   "cell_type": "code",
   "execution_count": 39,
   "id": "26e1553a",
   "metadata": {},
   "outputs": [
    {
     "name": "stdout",
     "output_type": "stream",
     "text": [
      "Enter the name of a product that the customer wants to order: mug\n",
      "Do you want to add another product?: Yes\n",
      "mug\n",
      "Enter the name of a product that the customer wants to order: keychain\n",
      "Do you want to add another product?: yes\n",
      "keychain\n",
      "Enter the name of a product that the customer wants to order: book\n",
      "Do you want to add another product?: no\n",
      "Thank you for your order!\n"
     ]
    }
   ],
   "source": [
    "while True:\n",
    "    product = input(\"Enter the name of a product that the customer wants to order: \")\n",
    "    for item in products:\n",
    "        customer_orders.add(product)\n",
    "    add_product = input(\"Do you want to add another product?: \")\n",
    "    if add_product == \"yes\" or add_product == \"Yes\":\n",
    "        print(product)\n",
    "    else:\n",
    "        break\n",
    "print('Thank you for your order!')"
   ]
  },
  {
   "cell_type": "code",
   "execution_count": 40,
   "id": "61241a38",
   "metadata": {},
   "outputs": [
    {
     "data": {
      "text/plain": [
       "{'book', 'keychain', 'mug'}"
      ]
     },
     "execution_count": 40,
     "metadata": {},
     "output_type": "execute_result"
    }
   ],
   "source": [
    "customer_orders"
   ]
  },
  {
   "cell_type": "code",
   "execution_count": 41,
   "id": "ab553760",
   "metadata": {
    "scrolled": true
   },
   "outputs": [
    {
     "name": "stdout",
     "output_type": "stream",
     "text": [
      "{'t-shirt': 50, 'mug': 49, 'hat': 50, 'book': 49, 'keychain': 49}\n"
     ]
    }
   ],
   "source": [
    "for item in customer_orders:\n",
    "    if item in inventory:\n",
    "        inventory[item] -= 1\n",
    "print(inventory)"
   ]
  }
 ],
 "metadata": {
  "kernelspec": {
   "display_name": "Python 3 (ipykernel)",
   "language": "python",
   "name": "python3"
  },
  "language_info": {
   "codemirror_mode": {
    "name": "ipython",
    "version": 3
   },
   "file_extension": ".py",
   "mimetype": "text/x-python",
   "name": "python",
   "nbconvert_exporter": "python",
   "pygments_lexer": "ipython3",
   "version": "3.11.7"
  }
 },
 "nbformat": 4,
 "nbformat_minor": 5
}
